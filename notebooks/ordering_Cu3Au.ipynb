{
 "cells": [
  {
   "cell_type": "markdown",
   "metadata": {},
   "source": [
    "$$ N^{(m)} = k_m M = k_m N / k; \\quad k = k_1 + k_2  $$"
   ]
  },
  {
   "cell_type": "markdown",
   "metadata": {},
   "source": [
    "$$ N_1^{(m)} = \\sum_{\\mathbf{i} \\alpha} i_m M_{\\mathbf{i} \\alpha}$$"
   ]
  },
  {
   "cell_type": "markdown",
   "metadata": {},
   "source": [
    "\\begin{align}\n",
    "F &= \\beta M \\sum_{\\mathbf{i}  \\alpha}U_{\\mathbf{i}  \\alpha} p_{\\mathbf{i}  \\alpha} \n",
    "+ \\theta(1- \\gamma) \\sum_{m = 1}^2  N^{(m)} ( y_1^{(m)} \\ln y_1^{(m)} + y_2^{(m)} \\ln y_2^{(m)} )\n",
    "+ \\theta \\gamma M \\sum_{\\mathbf{i}  \\alpha} p_{\\mathbf{i}  \\alpha} \\ln p_{\\mathbf{i}  \\alpha}\\\\\n",
    "&+ \\sum_{m=1}^2 \\lambda_m N \\left(y_1^{(m)} -  \\sum_{\\mathbf{i} \\alpha} \\frac{i_m}{k_m} p_{\\mathbf{i} \\alpha} \\right) \n",
    "+ \\lambda N \\left(1- \\sum_{\\mathbf{i} \\alpha}p_{\\mathbf{i} \\alpha}   \\right)\\\\ \n",
    "\\end{align}\n"
   ]
  },
  {
   "cell_type": "markdown",
   "metadata": {},
   "source": [
    "$$\n",
    "   p_{\\mathbf{i} \\alpha} = \\frac{M_{\\mathbf{i}  \\alpha} }{M} = \\exp \\left(- \\frac{ \\beta U_{\\mathbf{i}  \\alpha} }{\\theta\\gamma }\\right) \n",
    "b_1^{i_1} b_2^{i_2}  b, \\quad \\mathbf{i} = (i_1, i_2) = (i, j)\n",
    "$$"
   ]
  },
  {
   "cell_type": "markdown",
   "metadata": {},
   "source": [
    "$$\n",
    "b_m  = \\exp \\left( \\frac{\\lambda_m}{\\theta \\gamma} \\frac{k}{k_m} \\right), \\quad\n",
    "b  =  \\exp \\left( \\frac{\\lambda k}{\\theta \\gamma} \\right)\n",
    "$$\n"
   ]
  },
  {
   "cell_type": "markdown",
   "metadata": {},
   "source": [
    "\\begin{align}\n",
    "y_1^{(m)} &= \\frac{N_1^{(m)}} { N^{(m)}} = \\sum_{\\mathbf{i} } \\frac{i_m}{k_m} W_{\\mathbf{i}}   b_1^{i_1} b_2^{i_2}  b\\\\\n",
    "b &=  \\left( \\sum_{\\mathbf{i} } W_{\\mathbf{i} }   b_1^{i_1} b_2^{i_2}\\right) ^{-1}\n",
    "\\end{align}\n"
   ]
  },
  {
   "cell_type": "markdown",
   "metadata": {},
   "source": [
    "\\begin{align}\n",
    "F(b_1, b_2) &=  \\theta(1- \\gamma) \\sum_{m = 1}^2  N^{(m)} ( y_1^{(m)} \\ln y_1^{(m)} + y_2^{(m)} \\ln y_2^{(m)} )\n",
    "+ \\sum_{m=1}^2 \\lambda_m Ny_1^{(m)} + \\lambda N \\\\\n",
    "&= \\frac{N \\theta } {k} \\left(  (1- \\gamma) \\sum_{m = 1}^2 k_m  ( y_1^{(m)} \\ln y_1^{(m)} + y_2^{(m)} \\ln y_2^{(m)} )\n",
    "+  \\gamma\\sum_{m=1}^2  k_m y_1^{(m)}\\ln b_m + \\gamma\\ln b \\right)\n",
    "\\end{align}\n"
   ]
  },
  {
   "cell_type": "markdown",
   "metadata": {},
   "source": [
    "$$\n",
    "x_1 =  \\sum_{m=1}^2 \\frac{k_m}{k} y_1^{(m)} = \\sum_{i, j} \\frac{i + j}{k} W_{i j} b_1^i b_2^j b\n",
    "$$"
   ]
  },
  {
   "cell_type": "markdown",
   "metadata": {},
   "source": [
    "Partial case:\n",
    "========\n",
    "\\begin{align}\n",
    "k_1 &= 3\\\\\n",
    "k_2 &= 1\n",
    "\\end{align}"
   ]
  },
  {
   "cell_type": "markdown",
   "metadata": {},
   "source": [
    "\\begin{align}\n",
    "S_j &= \\sum_i W_{i j} b_1^i\\\\\n",
    "S_j^a &= \\sum_i i W_{i j} b_1^i\n",
    "\\end{align}"
   ]
  },
  {
   "cell_type": "markdown",
   "metadata": {},
   "source": [
    "\n",
    "\\begin{equation} \\label{x14}\n",
    "x_1 = \\frac{1}{4} \\frac{S_0^a + (S_1 + S_1^a) b_2}{S_0 + S_1 b_2}\n",
    "\\end{equation}\n"
   ]
  },
  {
   "cell_type": "markdown",
   "metadata": {},
   "source": [
    "Ordering of the Face-Centered-Cubic Lattice with Nearest-Neighbor Interaction by Binder, K. (1980). Physical Review Letters, 45(10), 811–814.pdf\n",
    "=================\n",
    "\n",
    "Hamiltonian $H = -J \\sum S_i S_j - H S_i; \\quad S_i = \\pm 1$\n",
    "\n",
    "\n",
    "The predicted critical temperatures of\n",
    "the first-order transitions at stoichiometric composition \n",
    "$(A_3B, k_BT_c/J=1.86; \\quad AB,  k_BT_c/J=1.76)$\n",
    " are a few percent less than those of the cluster\n",
    "variation $(AB, k_BT_c/J = 1.89)$\n",
    "but distinctly higher than that of Ref. 7 \n",
    "$(AB, k_BT_c/J = 1.46)$.\n",
    "For\n",
    "Cu-Au the phase diagram has the topology of Fig.\n",
    "l(c), but is not symmetric\n",
    "around $c_B=0.5$. Such\n",
    "an asymmetry is expected, since due to lattice\n",
    "expansion the effective interaction J must depend\n",
    "both on T and on $c_B$."
   ]
  },
  {
   "cell_type": "markdown",
   "metadata": {},
   "source": [
    "Hamiltonian above means that \n",
    "\\begin{align}\n",
    "U_{aa} &= U_{bb} = -J\\\\\n",
    "U_{ab} &= J\\\\\n",
    "U_\\Delta &= U_{ab} - \\frac{U_{aa} + U_{bb}}{2} = 2 J\\\\\n",
    "U_\\Delta / \\theta &= 2 J / k_B T\n",
    "\\end{align}"
   ]
  },
  {
   "cell_type": "code",
   "execution_count": 1,
   "metadata": {},
   "outputs": [],
   "source": [
    "import numpy as np\n",
    "import matplotlib.pyplot as plt\n",
    "import ipywidgets as wdg\n",
    "%matplotlib inline\n",
    "%config InlineBackend.figure_format = 'retina'\n",
    "from scipy.optimize import fsolve\n",
    "\n",
    "beta = 4.\n"
   ]
  },
  {
   "cell_type": "code",
   "execution_count": 2,
   "metadata": {},
   "outputs": [],
   "source": [
    "# T = 1.86            # temperature measured in units of J\n",
    "# U2T = -2/T\n",
    "\n",
    "#Energy. Number of a-b paars is defined by i+j: 0=>0; 1=>3; 2=>4; 3=>3; 4=>0;\n",
    "#Combinatoric: distribution of i atoms of type a over k1=3 posisions: 0=>1; 1=>3; 2=>3; 3=>1\n"
   ]
  },
  {
   "cell_type": "markdown",
   "metadata": {},
   "source": [
    "\\begin{align}\n",
    "S_j &= \\sum_i W_{i j} b_1^i\\\\\n",
    "S_j^a &= \\sum_i i W_{i j} b_1^i\n",
    "\\end{align}\n",
    "\n",
    "$S_j$ abbreviated as array S; \n",
    "\n",
    "$S_j^a$ abbreviated as array Sa"
   ]
  },
  {
   "cell_type": "code",
   "execution_count": 3,
   "metadata": {},
   "outputs": [],
   "source": [
    "def sum_count(W, b1):\n",
    "    b12 = b1*b1; b13= b12*b1\n",
    "    Wb = np.array([[1,1,1,1], [1,1,1,1]], np.float64).T\n",
    "    Wb[0, 0] = W[0, 0]; Wb[1,0] = W[1,0] * b1; Wb[2,0] = W[2,0] * b12; Wb[3,0] = W[3,0] * b13; \n",
    "    Wb[0, 1] = W[0, 1]; Wb[1,1] = W[1,1] * b1; Wb[2,1] = W[2,1] * b12; Wb[3,1] = W[3,1] * b13; \n",
    "    ir = np.array([0, 1, 2, 3]).T\n",
    "    S = np.sum(Wb, 0)\n",
    "    Sa = (Wb.T.dot(ir))\n",
    "#    print(W,Wb)\n",
    "    return(S, Sa)"
   ]
  },
  {
   "cell_type": "code",
   "execution_count": 4,
   "metadata": {},
   "outputs": [],
   "source": [
    "def equ1(b10, *extr):\n",
    "    x1, W = extr\n",
    "    [S, Sa] = sum_count(W, b10)\n",
    "    return (1 - 4 * x1) * S[1] + Sa[1]"
   ]
  },
  {
   "cell_type": "code",
   "execution_count": 5,
   "metadata": {},
   "outputs": [],
   "source": [
    "def min_b1(b10, x1, W):\n",
    "    if (x1 < 0.25):\n",
    "        rr = 0\n",
    "    else:\n",
    "        [rr] = fsolve(equ1, b10,(x1, W))\n",
    "#    print(x1, W, rr, equ(rr, x1, W), \"b1_max\")\n",
    "    return rr"
   ]
  },
  {
   "cell_type": "code",
   "execution_count": 6,
   "metadata": {},
   "outputs": [],
   "source": [
    "def equ2(b10, *extr):\n",
    "    x1, W = extr\n",
    "    [S, Sa] = sum_count(W, b10)\n",
    "#    print(b10, x1, W, 4 * x1 * S[0] - Sa[0], \"equ\" )\n",
    "    return 4 * x1 * S[0] - Sa[0]"
   ]
  },
  {
   "cell_type": "code",
   "execution_count": 7,
   "metadata": {},
   "outputs": [],
   "source": [
    "def max_b1(b10, x1, W):\n",
    "    [rr] = fsolve(equ2, b10,(x1, W))\n",
    "#    print(x1, W, rr, equ(rr, x1, W), \"b1_max\")\n",
    "    return rr"
   ]
  },
  {
   "cell_type": "code",
   "execution_count": 8,
   "metadata": {},
   "outputs": [],
   "source": [
    "#f = Free_Energy / N / theta * k;   k =4\n",
    "\n",
    "def f(gamma, x1, b1, U2T):\n",
    "    a = np.exp(- beta * U2T / gamma)\n",
    "    a3 = a*a*a; a4 = a3*a\n",
    "    W = np.array([[1,3*a3,3*a4,a3], [a3,3*a4,3*a3,1]], np.float64).T\n",
    "    [S, Sa] = sum_count(W, b1)\n",
    "\n",
    "    b2 = (Sa[0] - 4*x1*S[0]) / (4*x1 * S[1] - S[1] - Sa[1])\n",
    "    b = 1 / (S[0] + S[1] * b2)\n",
    "    y1_1 = 1/3 * (Sa[0] + Sa[1] * b2) * b ; y2_1 = 1 - y1_1         #concentration of atoms a on the first sublattice\n",
    "    y1_2 = S[1] * b2 * b; y2_2 = 1 - y1_2                           #concentration of atoms a on the second sublattice\n",
    "\n",
    "    if (y1_2 > 0 and b2 > 0):\n",
    "        f_res = (1 - gamma) * (3 * (y1_1 * np.log(y1_1) +  y2_1 * np.log(y2_1)) + (y1_2 * np.log(y1_2) +  y2_2 * np.log(y2_2))) \n",
    "        f_res = f_res + gamma * (3 * y1_1 * np.log(b1) + y1_2 * np.log(b2) + np.log(b) )\n",
    "        fy = (1 - gamma)* np.log(y1_1 * y2_2 / y2_1 / y1_2) + gamma * np.log(b1 / b2)\n",
    "    else:\n",
    "        print(\"errors  x1, b1, b2, y1_1:\", x1, b1, b2, y1_1)\n",
    "     \n",
    "    return y1_1, f_res, fy"
   ]
  },
  {
   "cell_type": "code",
   "execution_count": 9,
   "metadata": {},
   "outputs": [
    {
     "data": {
      "application/vnd.jupyter.widget-view+json": {
       "model_id": "611dbbd8a4a84dcdb2436db27021cc3f",
       "version_major": 2,
       "version_minor": 0
      },
      "text/plain": [
       "interactive(children=(FloatSlider(value=4.88, description='gamma', max=6.0, min=4.0), FloatSlider(value=0.25, …"
      ]
     },
     "metadata": {},
     "output_type": "display_data"
    }
   ],
   "source": [
    "y1_1 = np.zeros(200)                  # y1 in sublattice 1\n",
    "f_r = np.zeros(200)                   # corresponding free energy \n",
    "fy = np.zeros(200)                    # proportional to derivative of F by y1_1\n",
    "b1_min0 = 0\n",
    "b1_max0 = 1\n",
    "def extr_f(gamma, x1, T):\n",
    "    U2T = -2/T\n",
    "    global b1_min0, b1_max0           # use previous point as starting\n",
    "    a = np.exp(- beta * U2T / gamma)\n",
    "    a3 = a*a*a; a4 = a3*a\n",
    "    W = np.array([[1,3*a3,3*a4,a3], [a3,3*a4,3*a3,1]], np.float64).T\n",
    "\n",
    "    b1_min = min_b1(b1_min0, x1, W)\n",
    "    b1_max = max_b1(b1_max0 * 2 +0.1, x1, W)\n",
    "    if (b1_min >= 0 ) and (b1_max > b1_min):\n",
    "        b1_min0, b1_max0 = b1_min, b1_max \n",
    "    bb1 = np.linspace(b1_min + 0.0001, b1_max, 201)\n",
    "    for i in np.arange(200):\n",
    "        y1_1[i], f_r[i], fy[i]= f(gamma, x1, bb1[i], U2T)\n",
    "        if y1_1[i] > 0:\n",
    "            y1_0, f_r_0 = y1_1[i], f_r[i]\n",
    "    \n",
    "    fig = plt.figure(figsize=(5,10))\n",
    "    fig.add_subplot(211)\n",
    "    plt.plot(y1_1, f_r)\n",
    "    fig.add_subplot(212)\n",
    "    plt.plot(y1_1, fy)\n",
    "    plt.plot(y1_1, fy*0)\n",
    "    plt.ylim(-1, 1)\n",
    "    plt.show()\n",
    "\n",
    "gamma = wdg.FloatSlider(min=4., max=6, value = 4.88 )\n",
    "x1 = wdg.FloatSlider(min=0, max=1, value = 0.25, step = 0.01)           \n",
    "T = wdg.FloatSlider(min=1, max=2.5, value = 1.88, step = 0.01)          #T is theta/J \n",
    "wdg.interactive(extr_f,gamma=gamma, x1=x1, T=T)"
   ]
  },
  {
   "cell_type": "code",
   "execution_count": 11,
   "metadata": {},
   "outputs": [
    {
     "data": {
      "image/png": "[encoded data removed]",
      "text/plain": [
       "<matplotlib.figure.Figure at 0x279ced7e518>"
      ]
     },
     "metadata": {
      "image/png": {
       "height": 383,
       "width": 448
      },
      "needs_background": "light"
     },
     "output_type": "display_data"
    }
   ],
   "source": [
    "gamma = 4.88\n",
    "x1 = 0.25\n",
    "T = 1.88\n",
    "y1_1 = np.zeros(200)                  # y1 in sublattice 1\n",
    "f_r = np.zeros(200)                   # corresponding free energy \n",
    "def extr_ff(gamma, x1, T):\n",
    "    U2T = -2/ T\n",
    "    a = np.exp(- beta * U2T / gamma)\n",
    "    a3 = a*a*a; a4 = a3*a\n",
    "    W = np.array([[1,3*a3,3*a4,a3], [a3,3*a4,3*a3,1]], np.float64).T\n",
    "    b1_min = min_b1(0, x1, W)\n",
    "    b1_max = max_b1(1 +0.1, x1, W)\n",
    "    bb1 = np.linspace(b1_min + 0.0001, b1_max, 201)\n",
    "    for i in np.arange(200):\n",
    "        y1_1[i], f_r[i], fy[i]= f(gamma, x1, bb1[i], U2T)\n",
    "    return (y1_1, f_r)\n",
    "\n",
    "y1_1a, f_ra = extr_ff(gamma, x1, T)    \n",
    "fig = plt.figure()\n",
    "fig.set_size_inches(6.5, 6)\n",
    "plt.plot(y1_1a, f_ra)\n",
    "\n",
    "plt.xlabel(r'$y_1^{(1)}$',fontsize=15 );\n",
    "plt.ylabel(r'$f/\\theta$', fontsize=15);\n",
    "plt.show()\n",
    "#fig.savefig('E:\\\\GIT\\\\TISR6\\\\Ordering.png', format='png', dpi=1200, bbox_inches='tight') \n"
   ]
  },
  {
   "cell_type": "code",
   "execution_count": null,
   "metadata": {},
   "outputs": [],
   "source": []
  }
 ],
 "metadata": {
  "kernelspec": {
   "display_name": "Python 3",
   "language": "python",
   "name": "python3"
  },
  "language_info": {
   "codemirror_mode": {
    "name": "ipython",
    "version": 3
   },
   "file_extension": ".py",
   "mimetype": "text/x-python",
   "name": "python",
   "nbconvert_exporter": "python",
   "pygments_lexer": "ipython3",
   "version": "3.5.6"
  }
 },
 "nbformat": 4,
 "nbformat_minor": 4
}
